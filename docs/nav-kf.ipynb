{
 "cells": [
  {
   "cell_type": "markdown",
   "metadata": {},
   "source": [
    "![](https://images.pexels.com/photos/1148820/pexels-photo-1148820.jpeg?auto=compress&cs=tinysrgb&dpr=2&h=750&w=1260)\n",
    "\n",
    "# Extended Kalman Filter (EKF)\n",
    "\n",
    "Kevin J. Walchko, Phd\n",
    "\n",
    "19 Apr 2020\n",
    "\n",
    "---\n",
    "\n",
    "In estimation theory, the extended Kalman filter (EKF) is the nonlinear version of the Kalman filter which linearizes about an estimate of the current mean and covariance. In the case of well defined transition models, the EKF has been considered[1] the de facto standard in the theory of nonlinear state estimation, navigation systems and GPS.\n",
    "\n",
    "## References\n",
    "\n",
    "- Wikipedia: [Extended Kalman Filter](https://en.wikipedia.org/wiki/Extended_Kalman_filter)"
   ]
  },
  {
   "cell_type": "markdown",
   "metadata": {},
   "source": [
    "In the extended Kalman filter, the state transition and observation models don't need to be linear functions of the state but may instead be differentiable functions.\n",
    "\n",
    "$$\n",
    "\\boldsymbol{x}_{k} = f(\\boldsymbol{x}_{k-1}, \\boldsymbol{u}_{k}) + \\boldsymbol{w}_{k} \\\\\n",
    "\\boldsymbol{z}_{k} = h(\\boldsymbol{x}_{k}) + \\boldsymbol{v}_{k}\n",
    "$$\n",
    "\n",
    "- $F_{k}$: state-transition model formed from the Jacobian of $f$\n",
    "    - ${{\\boldsymbol{F}_{k}}} = \\left . \\frac{\\partial f}{\\partial \\boldsymbol{x} } \\right \\vert _{\\hat{\\boldsymbol{x}}_{k-1|k-1},\\boldsymbol{u}_{k}} $\n",
    "- $H_{k}$: observation model formed from the Jacobian of $h$\n",
    "    - ${{\\boldsymbol{H}_{k}}} = \\left . \\frac{\\partial h}{\\partial \\boldsymbol{x} } \\right \\vert _{\\hat{\\boldsymbol{x}}_{k|k-1}}$\n",
    "- $Q_{k}$: process noise covariance\n",
    "    - $\\mathbf{w}_k \\sim \\mathcal{N}\\left(0, \\mathbf{Q}_k\\right)$, assumed gaussian and zero mean\n",
    "- $R_{k}$: measurement noise covariance\n",
    "    - $\\mathbf{v}_k \\sim \\mathcal{N}\\left(0, \\mathbf{R}_k\\right)$, assumed gaussian and zero mean\n",
    "\n",
    "## Discrete EKF\n",
    "\n",
    "Notation $\\hat{\\mathbf{x}}_{n\\mid m}$ represents the estimate of $\\mathbf{x}$ at time $n$ given observations up to and including at time $m \\le n$.\n",
    "\n",
    "#### Predict\n",
    "- Predicted state estimate:    \n",
    "    - $\\hat{\\boldsymbol{x}}_{k|k-1} = f(\\hat{\\boldsymbol{x}}_{k-1|k-1}, \\boldsymbol{u}_{k})$\n",
    "- Predicted covariance estimate: \n",
    "    - $\\boldsymbol{P}_{k|k-1} =  {{\\boldsymbol{F}_{k}}} \\boldsymbol{P}_{k-1|k-1}{ {\\boldsymbol{F}_{k}^\\top}} + \\boldsymbol{Q}_{k}$\n",
    "\n",
    "#### Update\n",
    "- Innovation or measurement residual\n",
    "    - $\\tilde{\\boldsymbol{y}}_{k} = \\boldsymbol{z}_{k} - h(\\hat{\\boldsymbol{x}}_{k|k-1})$\n",
    "- Innovation (or residual) covariance\n",
    "    - $\\boldsymbol{S}_{k} = {{\\boldsymbol{H}_{k}}}\\boldsymbol{P}_{k|k-1}{{\\boldsymbol{H}_{k}^\\top}} + \\boldsymbol{R}_{k}$\n",
    "- *Near-optimal* Kalman gain\n",
    "    - $\\boldsymbol{K}_{k} = \\boldsymbol{P}_{k|k-1}{{\\boldsymbol{H}_{k}^\\top}}\\boldsymbol{S}_{k}^{-1} $\n",
    "- Updated state estimate\n",
    "    - $\\hat{\\boldsymbol{x}}_{k|k} = \\hat{\\boldsymbol{x}}_{k|k-1} + \\boldsymbol{K}_{k}\\tilde{\\boldsymbol{y}}_{k}$\n",
    "- Updated covariance estimate \n",
    "    - $\\boldsymbol{P}_{k|k} = (\\boldsymbol{I} - \\boldsymbol{K}_{k} {{\\boldsymbol{H}_{k}}}) \\boldsymbol{P}_{k|k-1}$"
   ]
  },
  {
   "cell_type": "code",
   "execution_count": 1,
   "metadata": {},
   "outputs": [],
   "source": [
    "import attr\n",
    "\n",
    "import numpy as np\n",
    "from numpy import cross\n",
    "from numpy import dot\n",
    "from numpy.linalg import inv\n",
    "\n",
    "from pyrk import RK4\n",
    "\n",
    "from math import sin, cos, pi"
   ]
  },
  {
   "cell_type": "code",
   "execution_count": 2,
   "metadata": {},
   "outputs": [],
   "source": [
    "import attr\n",
    "\n",
    "@attr.s(slots=True)\n",
    "class Jacobian:\n",
    "    f=attr.ib() # function\n",
    "    \n",
    "    # cache some variables to save processing time\n",
    "    n=attr.ib(init=False, default=None)\n",
    "    jac=attr.ib(init=False, default=None)\n",
    "    \n",
    "    def __call__(self, time, x, u, dx=1e-8):\n",
    "        if self.n is None:\n",
    "            self.n = len(x)\n",
    "            self.jac = np.zeros((self.n, self.n))\n",
    "        for j in range(self.n):\n",
    "            Dxj = (abs(x[j])*dx if x[j] != 0 else dx)\n",
    "            d = np.zeros(self.n)\n",
    "            d[j] = Dxj\n",
    "            self.jac[:, j] = (self.f(time, x+d, u) - self.f(time, x-d, u))/(2*Dxj)\n",
    "        return self.jac"
   ]
  },
  {
   "cell_type": "code",
   "execution_count": 30,
   "metadata": {},
   "outputs": [],
   "source": [
    "class EKF(object):\n",
    "    \"\"\"\n",
    "    Extended Kalman Filter (EKF)\n",
    "\n",
    "    def func(time, x, u):\n",
    "        some nonlinear eqns\n",
    "        return dx\n",
    "\n",
    "    ekf = EKF(size_x,size_z)\n",
    "    ekf.init(x, func, R, Q)\n",
    "\n",
    "    while True:\n",
    "        ekf.predict(u)\n",
    "        x_hat = ekf.update(z)\n",
    "    \"\"\"\n",
    "\n",
    "    def reset(self, x, f, r, q):\n",
    "        \"\"\"\n",
    "        x -  initial state\n",
    "        f - dx = f(x, u)\n",
    "        r - measurement noise\n",
    "        q - process noise\n",
    "        \"\"\"\n",
    "        state_size = len(x)\n",
    "        self.F = np.eye(state_size)\n",
    "        self.H = np.eye(state_size)\n",
    "        self.P = np.eye(state_size)\n",
    "        self.I = np.eye(state_size)\n",
    "        \n",
    "        self.x = x\n",
    "        self.rk = RK4(f)\n",
    "        self.jacob = Jacobian(f)\n",
    "        self.R = r\n",
    "        self.Q = q\n",
    "        self.time = 0.0\n",
    "\n",
    "    def something(self, time, u, dt):\n",
    "        rk = self.rk\n",
    "        t = self.time\n",
    "        x = self.x\n",
    "\n",
    "        y = rk.step(x, u, t, dt)\n",
    "        self.F = self.jacob(time, y,u)\n",
    "\n",
    "        self.time = t+dt\n",
    "        self.x = y\n",
    "\n",
    "        return y\n",
    "\n",
    "    def predict(self, time, u, dt):\n",
    "        self.x = self.something(time, u, dt)\n",
    "\n",
    "        F = self.F\n",
    "        Q = self.Q\n",
    "        P = self.P\n",
    "\n",
    "        self.P = dot(F, dot(P, F.T)) + Q\n",
    "\n",
    "    def update(self, z):\n",
    "        H = self.H\n",
    "        R = self.R\n",
    "        I = self.I\n",
    "        P = self.P\n",
    "        x = self.x\n",
    "\n",
    "        K = dot(P, dot(H.T, inv(dot(H, dot(P, H.T)) + R)))\n",
    "        x = x + K.dot(z-H*x)\n",
    "        p = (I - K.dot(H)).dot(P)\n",
    "\n",
    "        self.x = x\n",
    "        self.P = p\n",
    "\n",
    "        return x"
   ]
  },
  {
   "cell_type": "code",
   "execution_count": 33,
   "metadata": {},
   "outputs": [],
   "source": [
    "def func(time, x, u):\n",
    "    \"\"\"\n",
    "    Some cool non-linear function\n",
    "    f = [x**2y; 5x+sin(y)]\n",
    "    \"\"\"\n",
    "    f1 = x[0]**2*x[1]\n",
    "    f2 = 5*x[0]+sin(x[1])\n",
    "    \n",
    "    return np.array([f1,f2])\n",
    "\n",
    "ekf = EKF()\n",
    "R = np.eye(2)*0.001\n",
    "Q = R*0.1\n",
    "x = np.array([1,2])\n",
    "ekf.reset(x, func, R, Q)"
   ]
  },
  {
   "cell_type": "code",
   "execution_count": 34,
   "metadata": {},
   "outputs": [
    {
     "ename": "TypeError",
     "evalue": "only size-1 arrays can be converted to Python scalars",
     "output_type": "error",
     "traceback": [
      "\u001b[0;31m---------------------------------------------------------------------------\u001b[0m",
      "\u001b[0;31mTypeError\u001b[0m                                 Traceback (most recent call last)",
      "\u001b[0;32m<ipython-input-34-cb3226ce0fd3>\u001b[0m in \u001b[0;36m<module>\u001b[0;34m\u001b[0m\n\u001b[1;32m      3\u001b[0m \u001b[0mxx\u001b[0m \u001b[0;34m=\u001b[0m \u001b[0;34m[\u001b[0m\u001b[0;34m]\u001b[0m\u001b[0;34m\u001b[0m\u001b[0;34m\u001b[0m\u001b[0m\n\u001b[1;32m      4\u001b[0m \u001b[0;32mfor\u001b[0m \u001b[0mi\u001b[0m \u001b[0;32min\u001b[0m \u001b[0mrange\u001b[0m\u001b[0;34m(\u001b[0m\u001b[0;36m10\u001b[0m\u001b[0;34m)\u001b[0m\u001b[0;34m:\u001b[0m\u001b[0;34m\u001b[0m\u001b[0;34m\u001b[0m\u001b[0m\n\u001b[0;32m----> 5\u001b[0;31m     \u001b[0mekf\u001b[0m\u001b[0;34m.\u001b[0m\u001b[0mpredict\u001b[0m\u001b[0;34m(\u001b[0m\u001b[0;36m0\u001b[0m\u001b[0;34m,\u001b[0m \u001b[0mu\u001b[0m\u001b[0;34m,\u001b[0m\u001b[0;36m0.1\u001b[0m\u001b[0;34m)\u001b[0m\u001b[0;34m\u001b[0m\u001b[0;34m\u001b[0m\u001b[0m\n\u001b[0m\u001b[1;32m      6\u001b[0m     \u001b[0mx_hat\u001b[0m \u001b[0;34m=\u001b[0m \u001b[0mekf\u001b[0m\u001b[0;34m.\u001b[0m\u001b[0mupdate\u001b[0m\u001b[0;34m(\u001b[0m\u001b[0mz\u001b[0m\u001b[0;34m)\u001b[0m\u001b[0;34m\u001b[0m\u001b[0;34m\u001b[0m\u001b[0m\n\u001b[1;32m      7\u001b[0m     \u001b[0mxx\u001b[0m\u001b[0;34m.\u001b[0m\u001b[0mappend\u001b[0m\u001b[0;34m(\u001b[0m\u001b[0mx_hat\u001b[0m\u001b[0;34m)\u001b[0m\u001b[0;34m\u001b[0m\u001b[0;34m\u001b[0m\u001b[0m\n",
      "\u001b[0;32m<ipython-input-30-908132e570b8>\u001b[0m in \u001b[0;36mpredict\u001b[0;34m(self, time, u, dt)\u001b[0m\n\u001b[1;32m     56\u001b[0m \u001b[0;34m\u001b[0m\u001b[0m\n\u001b[1;32m     57\u001b[0m     \u001b[0;32mdef\u001b[0m \u001b[0mpredict\u001b[0m\u001b[0;34m(\u001b[0m\u001b[0mself\u001b[0m\u001b[0;34m,\u001b[0m \u001b[0mtime\u001b[0m\u001b[0;34m,\u001b[0m \u001b[0mu\u001b[0m\u001b[0;34m,\u001b[0m \u001b[0mdt\u001b[0m\u001b[0;34m)\u001b[0m\u001b[0;34m:\u001b[0m\u001b[0;34m\u001b[0m\u001b[0;34m\u001b[0m\u001b[0m\n\u001b[0;32m---> 58\u001b[0;31m         \u001b[0mself\u001b[0m\u001b[0;34m.\u001b[0m\u001b[0mx\u001b[0m \u001b[0;34m=\u001b[0m \u001b[0mself\u001b[0m\u001b[0;34m.\u001b[0m\u001b[0msomething\u001b[0m\u001b[0;34m(\u001b[0m\u001b[0mtime\u001b[0m\u001b[0;34m,\u001b[0m \u001b[0mu\u001b[0m\u001b[0;34m,\u001b[0m \u001b[0mdt\u001b[0m\u001b[0;34m)\u001b[0m\u001b[0;34m\u001b[0m\u001b[0;34m\u001b[0m\u001b[0m\n\u001b[0m\u001b[1;32m     59\u001b[0m \u001b[0;34m\u001b[0m\u001b[0m\n\u001b[1;32m     60\u001b[0m         \u001b[0mF\u001b[0m \u001b[0;34m=\u001b[0m \u001b[0mself\u001b[0m\u001b[0;34m.\u001b[0m\u001b[0mF\u001b[0m\u001b[0;34m\u001b[0m\u001b[0;34m\u001b[0m\u001b[0m\n",
      "\u001b[0;32m<ipython-input-30-908132e570b8>\u001b[0m in \u001b[0;36msomething\u001b[0;34m(self, time, u, dt)\u001b[0m\n\u001b[1;32m     47\u001b[0m         \u001b[0mx\u001b[0m \u001b[0;34m=\u001b[0m \u001b[0mself\u001b[0m\u001b[0;34m.\u001b[0m\u001b[0mx\u001b[0m\u001b[0;34m\u001b[0m\u001b[0;34m\u001b[0m\u001b[0m\n\u001b[1;32m     48\u001b[0m \u001b[0;34m\u001b[0m\u001b[0m\n\u001b[0;32m---> 49\u001b[0;31m         \u001b[0my\u001b[0m \u001b[0;34m=\u001b[0m \u001b[0mrk\u001b[0m\u001b[0;34m.\u001b[0m\u001b[0mstep\u001b[0m\u001b[0;34m(\u001b[0m\u001b[0mx\u001b[0m\u001b[0;34m,\u001b[0m \u001b[0mu\u001b[0m\u001b[0;34m,\u001b[0m \u001b[0mt\u001b[0m\u001b[0;34m,\u001b[0m \u001b[0mdt\u001b[0m\u001b[0;34m)\u001b[0m\u001b[0;34m\u001b[0m\u001b[0;34m\u001b[0m\u001b[0m\n\u001b[0m\u001b[1;32m     50\u001b[0m         \u001b[0mself\u001b[0m\u001b[0;34m.\u001b[0m\u001b[0mF\u001b[0m \u001b[0;34m=\u001b[0m \u001b[0mself\u001b[0m\u001b[0;34m.\u001b[0m\u001b[0mjacob\u001b[0m\u001b[0;34m(\u001b[0m\u001b[0mtime\u001b[0m\u001b[0;34m,\u001b[0m \u001b[0my\u001b[0m\u001b[0;34m,\u001b[0m\u001b[0mu\u001b[0m\u001b[0;34m)\u001b[0m\u001b[0;34m\u001b[0m\u001b[0;34m\u001b[0m\u001b[0m\n\u001b[1;32m     51\u001b[0m \u001b[0;34m\u001b[0m\u001b[0m\n",
      "\u001b[0;32m~/github/pyrk/pyrk/pyrk.py\u001b[0m in \u001b[0;36mstep\u001b[0;34m(self, y, u, t, h)\u001b[0m\n\u001b[1;32m     54\u001b[0m         \u001b[0mh\u001b[0m \u001b[0;34m-\u001b[0m \u001b[0mstep\u001b[0m \u001b[0msize\u001b[0m\u001b[0;34m\u001b[0m\u001b[0;34m\u001b[0m\u001b[0m\n\u001b[1;32m     55\u001b[0m         \"\"\"\n\u001b[0;32m---> 56\u001b[0;31m         \u001b[0mk1\u001b[0m \u001b[0;34m=\u001b[0m \u001b[0mh\u001b[0m \u001b[0;34m*\u001b[0m \u001b[0mself\u001b[0m\u001b[0;34m.\u001b[0m\u001b[0mfunc\u001b[0m\u001b[0;34m(\u001b[0m\u001b[0mt\u001b[0m\u001b[0;34m,\u001b[0m \u001b[0my\u001b[0m\u001b[0;34m,\u001b[0m \u001b[0mu\u001b[0m\u001b[0;34m)\u001b[0m\u001b[0;34m\u001b[0m\u001b[0;34m\u001b[0m\u001b[0m\n\u001b[0m\u001b[1;32m     57\u001b[0m         \u001b[0mk2\u001b[0m \u001b[0;34m=\u001b[0m \u001b[0mh\u001b[0m \u001b[0;34m*\u001b[0m \u001b[0mself\u001b[0m\u001b[0;34m.\u001b[0m\u001b[0mfunc\u001b[0m\u001b[0;34m(\u001b[0m\u001b[0mt\u001b[0m \u001b[0;34m+\u001b[0m \u001b[0;36m.5\u001b[0m\u001b[0;34m*\u001b[0m\u001b[0mh\u001b[0m\u001b[0;34m,\u001b[0m \u001b[0my\u001b[0m \u001b[0;34m+\u001b[0m \u001b[0;36m.5\u001b[0m\u001b[0;34m*\u001b[0m\u001b[0mh\u001b[0m\u001b[0;34m*\u001b[0m\u001b[0mk1\u001b[0m\u001b[0;34m,\u001b[0m \u001b[0mu\u001b[0m\u001b[0;34m)\u001b[0m\u001b[0;34m\u001b[0m\u001b[0;34m\u001b[0m\u001b[0m\n\u001b[1;32m     58\u001b[0m         \u001b[0mk3\u001b[0m \u001b[0;34m=\u001b[0m \u001b[0mh\u001b[0m \u001b[0;34m*\u001b[0m \u001b[0mself\u001b[0m\u001b[0;34m.\u001b[0m\u001b[0mfunc\u001b[0m\u001b[0;34m(\u001b[0m\u001b[0mt\u001b[0m \u001b[0;34m+\u001b[0m \u001b[0;36m.5\u001b[0m\u001b[0;34m*\u001b[0m\u001b[0mh\u001b[0m\u001b[0;34m,\u001b[0m \u001b[0my\u001b[0m \u001b[0;34m+\u001b[0m \u001b[0;36m.5\u001b[0m\u001b[0;34m*\u001b[0m\u001b[0mh\u001b[0m\u001b[0;34m*\u001b[0m\u001b[0mk2\u001b[0m\u001b[0;34m,\u001b[0m \u001b[0mu\u001b[0m\u001b[0;34m)\u001b[0m\u001b[0;34m\u001b[0m\u001b[0;34m\u001b[0m\u001b[0m\n",
      "\u001b[0;32m<ipython-input-33-9414d95506c5>\u001b[0m in \u001b[0;36mfunc\u001b[0;34m(time, x, u)\u001b[0m\n\u001b[1;32m      5\u001b[0m     \"\"\"\n\u001b[1;32m      6\u001b[0m     \u001b[0mf1\u001b[0m \u001b[0;34m=\u001b[0m \u001b[0mx\u001b[0m\u001b[0;34m[\u001b[0m\u001b[0;36m0\u001b[0m\u001b[0;34m]\u001b[0m\u001b[0;34m**\u001b[0m\u001b[0;36m2\u001b[0m\u001b[0;34m*\u001b[0m\u001b[0mx\u001b[0m\u001b[0;34m[\u001b[0m\u001b[0;36m1\u001b[0m\u001b[0;34m]\u001b[0m\u001b[0;34m\u001b[0m\u001b[0;34m\u001b[0m\u001b[0m\n\u001b[0;32m----> 7\u001b[0;31m     \u001b[0mf2\u001b[0m \u001b[0;34m=\u001b[0m \u001b[0;36m5\u001b[0m\u001b[0;34m*\u001b[0m\u001b[0mx\u001b[0m\u001b[0;34m[\u001b[0m\u001b[0;36m0\u001b[0m\u001b[0;34m]\u001b[0m\u001b[0;34m+\u001b[0m\u001b[0msin\u001b[0m\u001b[0;34m(\u001b[0m\u001b[0mx\u001b[0m\u001b[0;34m[\u001b[0m\u001b[0;36m1\u001b[0m\u001b[0;34m]\u001b[0m\u001b[0;34m)\u001b[0m\u001b[0;34m\u001b[0m\u001b[0;34m\u001b[0m\u001b[0m\n\u001b[0m\u001b[1;32m      8\u001b[0m \u001b[0;34m\u001b[0m\u001b[0m\n\u001b[1;32m      9\u001b[0m     \u001b[0;32mreturn\u001b[0m \u001b[0mnp\u001b[0m\u001b[0;34m.\u001b[0m\u001b[0marray\u001b[0m\u001b[0;34m(\u001b[0m\u001b[0;34m[\u001b[0m\u001b[0mf1\u001b[0m\u001b[0;34m,\u001b[0m\u001b[0mf2\u001b[0m\u001b[0;34m]\u001b[0m\u001b[0;34m)\u001b[0m\u001b[0;34m\u001b[0m\u001b[0;34m\u001b[0m\u001b[0m\n",
      "\u001b[0;31mTypeError\u001b[0m: only size-1 arrays can be converted to Python scalars"
     ]
    }
   ],
   "source": [
    "u = np.array([0,0])\n",
    "z = x\n",
    "xx = []\n",
    "for i in range(10):\n",
    "    ekf.predict(0, u,0.1)\n",
    "    x_hat = ekf.update(z)\n",
    "    xx.append(x_hat)\n",
    "    z = x_hat + np.array([gauss(.1,.001), gauss(.1,.001)])\n",
    "    \n",
    "xx"
   ]
  },
  {
   "cell_type": "code",
   "execution_count": 20,
   "metadata": {},
   "outputs": [],
   "source": [
    "import matplotlib.pyplot as plt\n",
    "%matplotlib inline"
   ]
  },
  {
   "cell_type": "code",
   "execution_count": 21,
   "metadata": {},
   "outputs": [
    {
     "data": {
      "text/plain": [
       "[<matplotlib.lines.Line2D at 0x10d3ff2d0>]"
      ]
     },
     "execution_count": 21,
     "metadata": {},
     "output_type": "execute_result"
    },
    {
     "data": {
      "image/png": "[encoded data removed]",
      "text/plain": [
       "<Figure size 432x288 with 2 Axes>"
      ]
     },
     "metadata": {
      "needs_background": "light"
     },
     "output_type": "display_data"
    }
   ],
   "source": [
    "plt.subplot(2,1,1); plt.plot([x[0] for x in xx])\n",
    "plt.subplot(2,1,2); plt.plot([x[1] for x in xx])"
   ]
  },
  {
   "cell_type": "code",
   "execution_count": 12,
   "metadata": {},
   "outputs": [],
   "source": [
    "from random import gauss"
   ]
  },
  {
   "cell_type": "code",
   "execution_count": 18,
   "metadata": {},
   "outputs": [
    {
     "data": {
      "text/plain": [
       "[array([nan, nan]),\n",
       " array([nan, nan]),\n",
       " array([nan, nan]),\n",
       " array([nan, nan]),\n",
       " array([nan, nan]),\n",
       " array([nan, nan]),\n",
       " array([nan, nan]),\n",
       " array([nan, nan]),\n",
       " array([nan, nan]),\n",
       " array([nan, nan])]"
      ]
     },
     "execution_count": 18,
     "metadata": {},
     "output_type": "execute_result"
    }
   ],
   "source": [
    "xx"
   ]
  },
  {
   "cell_type": "code",
   "execution_count": 23,
   "metadata": {},
   "outputs": [
    {
     "data": {
      "text/plain": [
       "array([1., 1., 1.])"
      ]
     },
     "execution_count": 23,
     "metadata": {},
     "output_type": "execute_result"
    }
   ],
   "source": [
    "np.ones(3)"
   ]
  },
  {
   "cell_type": "code",
   "execution_count": null,
   "metadata": {},
   "outputs": [],
   "source": []
  }
 ],
 "metadata": {
  "kernelspec": {
   "display_name": "Python 3 (ipykernel)",
   "language": "python",
   "name": "python3"
  },
  "language_info": {
   "codemirror_mode": {
    "name": "ipython",
    "version": 3
   },
   "file_extension": ".py",
   "mimetype": "text/x-python",
   "name": "python",
   "nbconvert_exporter": "python",
   "pygments_lexer": "ipython3",
   "version": "3.9.6"
  }
 },
 "nbformat": 4,
 "nbformat_minor": 4
}

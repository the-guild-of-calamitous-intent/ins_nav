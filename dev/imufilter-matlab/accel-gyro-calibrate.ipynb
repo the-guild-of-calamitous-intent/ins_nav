{
 "cells": [
  {
   "cell_type": "code",
   "execution_count": 2,
   "id": "faced-forty",
   "metadata": {},
   "outputs": [],
   "source": [
    "import numpy as np # matrix manipulations\n",
    "import os\n",
    "from scipy import linalg\n",
    "\n",
    "from squaternion import Quaternion\n",
    "\n",
    "import pandas as pd\n",
    "from glob import glob\n",
    "\n",
    "%matplotlib inline\n",
    "from matplotlib import pyplot as plt\n",
    "\n",
    "# from math import sqrt, atan2, asin, pi\n",
    "from math import radians as deg2rad\n",
    "from math import degrees as rad2deg\n",
    "from math import pi, sin, sqrt\n",
    "\n",
    "from slurm import storage\n",
    "\n",
    "from datetime import datetime"
   ]
  },
  {
   "cell_type": "code",
   "execution_count": null,
   "id": "occupational-sense",
   "metadata": {},
   "outputs": [],
   "source": []
  }
 ],
 "metadata": {
  "kernelspec": {
   "display_name": "Python 3 (ipykernel)",
   "language": "python",
   "name": "python3"
  },
  "language_info": {
   "codemirror_mode": {
    "name": "ipython",
    "version": 3
   },
   "file_extension": ".py",
   "mimetype": "text/x-python",
   "name": "python",
   "nbconvert_exporter": "python",
   "pygments_lexer": "ipython3",
   "version": "3.9.6"
  }
 },
 "nbformat": 4,
 "nbformat_minor": 5
}

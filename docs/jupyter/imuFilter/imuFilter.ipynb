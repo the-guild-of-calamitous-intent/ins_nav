{
 "cells": [
  {
   "cell_type": "code",
   "execution_count": null,
   "metadata": {},
   "outputs": [],
   "source": []
  },
  {
   "cell_type": "code",
   "execution_count": 1,
   "metadata": {},
   "outputs": [],
   "source": [
    "import numpy as np\n",
    "from numpy.linalg import inv\n",
    "import matplotlib.pyplot as plt\n",
    "from squaternion import Quaternion"
   ]
  },
  {
   "cell_type": "code",
   "execution_count": 68,
   "metadata": {},
   "outputs": [],
   "source": [
    "class imuFilter:\n",
    "    def __init__(self, R, Q):\n",
    "        self.q = Quaternion()\n",
    "        self.dt = 0.\n",
    "        self.x = np.array([0]*9) # [qb,ab,wb]\n",
    "        self.abias = 0\n",
    "        self.wbias = 0\n",
    "        self.qbias = Quaternion(0,0,0,0)\n",
    "        self.R = R\n",
    "        self.Q = Q\n",
    "        self.P = Q\n",
    "    \n",
    "    def model(self, accel, gyro):\n",
    "        \"\"\"\n",
    "        accel/gyro: (x,y,z) readings from IMU\n",
    "        q: quaternion attitude estimate\n",
    "        a: acceleration\n",
    "        g: esitmate of gravity vector\n",
    "        \"\"\"\n",
    "        abias = self.x[3:6]\n",
    "        a = accel - self.abias\n",
    "        wbias = self.x[6:]\n",
    "        w = gyro - self.wbias\n",
    "        q = self.q + 0.5*self.dt*self.q * Quaternion(0, w[0], w[1], w[2])\n",
    "        g = np.array(q.to_rot())[2,:] # save a transpose g[2,:] = (g.T)[:,2]\n",
    "        return q,a,g\n",
    "        \n",
    "    def correction(self):\n",
    "        o = self.x[:4]\n",
    "        ab = self.x[4:7]\n",
    "        wb = self.x[7:]\n",
    "        \n",
    "        self.abias = self.abias*v-ab\n",
    "        self.wbias = self.wbias-wb\n",
    "        \n",
    "    def kf(self,z,g):\n",
    "        gx,gy,gz = g\n",
    "        k = 0.001 # fixme\n",
    "        self.x = np.array([0]*9)\n",
    "        H = np.array([\n",
    "            [  0,  gz, -gy,     0, -k*gz,  k*gy, 1, 0, 0],\n",
    "            [-gz,   0,  gx,  k*gz,     0, -k*gx, 0, 1, 0],\n",
    "            [ gy, -gx,   0, -k*gy,  k*gx,     0, 0, 0, 1]\n",
    "        ])\n",
    "        y = z\n",
    "        s = self.R + H @ self.P @ H.T\n",
    "        K = self.P @ H.T @ inv(s)        # kalman gain\n",
    "        self.x = K @ y                   # a posteriori state\n",
    "        self.P = self.P - K @ H @ self.P # a posteriori covariance\n",
    "        \n",
    "    def pose(self, accel, gyro):\n",
    "        q,a,g = self.model(accel, gyro)\n",
    "        z = a-g\n",
    "        self.kf(z,g)\n",
    "        self.correction()\n",
    "        return (self.q, a, g)"
   ]
  },
  {
   "cell_type": "code",
   "execution_count": 69,
   "metadata": {},
   "outputs": [],
   "source": [
    "filt = imuFilter(\n",
    "    R=0.1*np.eye(3),\n",
    "    Q=0.1*np.eye(3)\n",
    ")"
   ]
  },
  {
   "cell_type": "code",
   "execution_count": 70,
   "metadata": {},
   "outputs": [],
   "source": [
    "class GausianSensor:\n",
    "    def __init__(self, mu, std, size):\n",
    "        self.mu = mu\n",
    "        self.std = std\n",
    "        self.size = size\n",
    "        \n",
    "    def generate(self, path=None):\n",
    "        mu = self.mu\n",
    "        std = self.std\n",
    "        size = self.size\n",
    "        if path is None:\n",
    "            self.data = np.random.normal(mu,std,(size,3))\n",
    "        else:\n",
    "            self.data = path + np.random.normal(mu,std,(size,3))\n",
    "\n",
    "class IMU:\n",
    "    def __init__(self, accel, gyro):\n",
    "        self.accelerometer = GausianSensor(*accel)\n",
    "        self.gyroscope = GausianSensor(*gyro)\n",
    "        \n",
    "    def generate(self, apath=None, gpath=None):\n",
    "        self.accelerometer.generate(apath)\n",
    "        self.gyroscope.generate(gpath)\n",
    "\n",
    "        \n",
    "a = (0.0, 0.001, 600)\n",
    "g = (0.0, 0.001, 600)\n",
    "imu = IMU(a,g)\n",
    "\n",
    "acc = np.array([[0,0,1] for _ in range(600)])\n",
    "gy = np.array([[0,0,0] for _ in range(600)])\n",
    "imu.generate(acc,gy)\n",
    "\n",
    "# imu.data"
   ]
  },
  {
   "cell_type": "code",
   "execution_count": 71,
   "metadata": {},
   "outputs": [
    {
     "data": {
      "image/png": "[encoded data removed]",
      "text/plain": [
       "<Figure size 432x288 with 1 Axes>"
      ]
     },
     "metadata": {
      "needs_background": "light"
     },
     "output_type": "display_data"
    }
   ],
   "source": [
    "n = 2\n",
    "sensor = imu.accelerometer\n",
    "plt.hist(sensor.data[:,n], bins=20)\n",
    "plt.title(f\"length: {sensor.data.shape[0]} mean: {np.mean(sensor.data[:,n]):0.3f}  std: {np.std(sensor.data[:,n]):0.3f}\")\n",
    "plt.grid();"
   ]
  },
  {
   "cell_type": "code",
   "execution_count": 72,
   "metadata": {},
   "outputs": [
    {
     "data": {
      "image/png": "[encoded data removed]",
      "text/plain": [
       "<Figure size 432x288 with 2 Axes>"
      ]
     },
     "metadata": {
      "needs_background": "light"
     },
     "output_type": "display_data"
    }
   ],
   "source": [
    "plt.subplot(1,2,1)\n",
    "plt.plot(imu.accelerometer.data)\n",
    "plt.grid(True)\n",
    "\n",
    "plt.subplot(1,2,2)\n",
    "plt.plot(imu.gyroscope.data)\n",
    "plt.grid(True);"
   ]
  },
  {
   "cell_type": "code",
   "execution_count": 73,
   "metadata": {},
   "outputs": [
    {
     "ename": "ValueError",
     "evalue": "matmul: Input operand 1 has a mismatch in its core dimension 0, with gufunc signature (n?,k),(k,m?)->(n?,m?) (size 3 is different from 9)",
     "output_type": "error",
     "traceback": [
      "\u001b[0;31m---------------------------------------------------------------------------\u001b[0m",
      "\u001b[0;31mValueError\u001b[0m                                Traceback (most recent call last)",
      "\u001b[0;32m<ipython-input-73-c5df0cc43fdd>\u001b[0m in \u001b[0;36m<module>\u001b[0;34m\u001b[0m\n\u001b[1;32m      1\u001b[0m \u001b[0;32mfor\u001b[0m \u001b[0ma\u001b[0m\u001b[0;34m,\u001b[0m \u001b[0mg\u001b[0m \u001b[0;32min\u001b[0m \u001b[0mzip\u001b[0m\u001b[0;34m(\u001b[0m\u001b[0mimu\u001b[0m\u001b[0;34m.\u001b[0m\u001b[0maccelerometer\u001b[0m\u001b[0;34m.\u001b[0m\u001b[0mdata\u001b[0m\u001b[0;34m,\u001b[0m \u001b[0mimu\u001b[0m\u001b[0;34m.\u001b[0m\u001b[0mgyroscope\u001b[0m\u001b[0;34m.\u001b[0m\u001b[0mdata\u001b[0m\u001b[0;34m)\u001b[0m\u001b[0;34m:\u001b[0m\u001b[0;34m\u001b[0m\u001b[0;34m\u001b[0m\u001b[0m\n\u001b[0;32m----> 2\u001b[0;31m     \u001b[0mfilt\u001b[0m\u001b[0;34m.\u001b[0m\u001b[0mpose\u001b[0m\u001b[0;34m(\u001b[0m\u001b[0ma\u001b[0m\u001b[0;34m,\u001b[0m\u001b[0mg\u001b[0m\u001b[0;34m)\u001b[0m\u001b[0;34m\u001b[0m\u001b[0;34m\u001b[0m\u001b[0m\n\u001b[0m",
      "\u001b[0;32m<ipython-input-68-e67ca42cd8e3>\u001b[0m in \u001b[0;36mpose\u001b[0;34m(self, accel, gyro)\u001b[0m\n\u001b[1;32m     52\u001b[0m         \u001b[0mq\u001b[0m\u001b[0;34m,\u001b[0m\u001b[0ma\u001b[0m\u001b[0;34m,\u001b[0m\u001b[0mg\u001b[0m \u001b[0;34m=\u001b[0m \u001b[0mself\u001b[0m\u001b[0;34m.\u001b[0m\u001b[0mmodel\u001b[0m\u001b[0;34m(\u001b[0m\u001b[0maccel\u001b[0m\u001b[0;34m,\u001b[0m \u001b[0mgyro\u001b[0m\u001b[0;34m)\u001b[0m\u001b[0;34m\u001b[0m\u001b[0;34m\u001b[0m\u001b[0m\n\u001b[1;32m     53\u001b[0m         \u001b[0mz\u001b[0m \u001b[0;34m=\u001b[0m \u001b[0ma\u001b[0m\u001b[0;34m-\u001b[0m\u001b[0mg\u001b[0m\u001b[0;34m\u001b[0m\u001b[0;34m\u001b[0m\u001b[0m\n\u001b[0;32m---> 54\u001b[0;31m         \u001b[0mself\u001b[0m\u001b[0;34m.\u001b[0m\u001b[0mkf\u001b[0m\u001b[0;34m(\u001b[0m\u001b[0mz\u001b[0m\u001b[0;34m,\u001b[0m\u001b[0mg\u001b[0m\u001b[0;34m)\u001b[0m\u001b[0;34m\u001b[0m\u001b[0;34m\u001b[0m\u001b[0m\n\u001b[0m\u001b[1;32m     55\u001b[0m         \u001b[0mself\u001b[0m\u001b[0;34m.\u001b[0m\u001b[0mcorrection\u001b[0m\u001b[0;34m(\u001b[0m\u001b[0;34m)\u001b[0m\u001b[0;34m\u001b[0m\u001b[0;34m\u001b[0m\u001b[0m\n\u001b[1;32m     56\u001b[0m         \u001b[0;32mreturn\u001b[0m \u001b[0;34m(\u001b[0m\u001b[0mself\u001b[0m\u001b[0;34m.\u001b[0m\u001b[0mq\u001b[0m\u001b[0;34m,\u001b[0m \u001b[0ma\u001b[0m\u001b[0;34m,\u001b[0m \u001b[0mg\u001b[0m\u001b[0;34m)\u001b[0m\u001b[0;34m\u001b[0m\u001b[0;34m\u001b[0m\u001b[0m\n",
      "\u001b[0;32m<ipython-input-68-e67ca42cd8e3>\u001b[0m in \u001b[0;36mkf\u001b[0;34m(self, z, g)\u001b[0m\n\u001b[1;32m     44\u001b[0m         ])\n\u001b[1;32m     45\u001b[0m         \u001b[0my\u001b[0m \u001b[0;34m=\u001b[0m \u001b[0mz\u001b[0m\u001b[0;34m\u001b[0m\u001b[0;34m\u001b[0m\u001b[0m\n\u001b[0;32m---> 46\u001b[0;31m         \u001b[0ms\u001b[0m \u001b[0;34m=\u001b[0m \u001b[0mself\u001b[0m\u001b[0;34m.\u001b[0m\u001b[0mR\u001b[0m \u001b[0;34m+\u001b[0m \u001b[0mH\u001b[0m \u001b[0;34m@\u001b[0m \u001b[0mself\u001b[0m\u001b[0;34m.\u001b[0m\u001b[0mP\u001b[0m \u001b[0;34m@\u001b[0m \u001b[0mH\u001b[0m\u001b[0;34m.\u001b[0m\u001b[0mT\u001b[0m\u001b[0;34m\u001b[0m\u001b[0;34m\u001b[0m\u001b[0m\n\u001b[0m\u001b[1;32m     47\u001b[0m         \u001b[0mK\u001b[0m \u001b[0;34m=\u001b[0m \u001b[0mself\u001b[0m\u001b[0;34m.\u001b[0m\u001b[0mP\u001b[0m \u001b[0;34m@\u001b[0m \u001b[0mH\u001b[0m\u001b[0;34m.\u001b[0m\u001b[0mT\u001b[0m \u001b[0;34m@\u001b[0m \u001b[0minv\u001b[0m\u001b[0;34m(\u001b[0m\u001b[0ms\u001b[0m\u001b[0;34m)\u001b[0m        \u001b[0;31m# kalman gain\u001b[0m\u001b[0;34m\u001b[0m\u001b[0;34m\u001b[0m\u001b[0m\n\u001b[1;32m     48\u001b[0m         \u001b[0mself\u001b[0m\u001b[0;34m.\u001b[0m\u001b[0mx\u001b[0m \u001b[0;34m=\u001b[0m \u001b[0mK\u001b[0m \u001b[0;34m@\u001b[0m \u001b[0my\u001b[0m                   \u001b[0;31m# a posteriori state\u001b[0m\u001b[0;34m\u001b[0m\u001b[0;34m\u001b[0m\u001b[0m\n",
      "\u001b[0;31mValueError\u001b[0m: matmul: Input operand 1 has a mismatch in its core dimension 0, with gufunc signature (n?,k),(k,m?)->(n?,m?) (size 3 is different from 9)"
     ]
    }
   ],
   "source": [
    "for a, g in zip(imu.accelerometer.data, imu.gyroscope.data):\n",
    "    filt.pose(a,g)"
   ]
  },
  {
   "cell_type": "code",
   "execution_count": null,
   "metadata": {},
   "outputs": [],
   "source": []
  }
 ],
 "metadata": {
  "kernelspec": {
   "display_name": "Python 3",
   "language": "python",
   "name": "python3"
  },
  "language_info": {
   "codemirror_mode": {
    "name": "ipython",
    "version": 3
   },
   "file_extension": ".py",
   "mimetype": "text/x-python",
   "name": "python",
   "nbconvert_exporter": "python",
   "pygments_lexer": "ipython3",
   "version": "3.9.1"
  }
 },
 "nbformat": 4,
 "nbformat_minor": 4
}
